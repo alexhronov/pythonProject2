{
 "cells": [
  {
   "cell_type": "markdown",
   "source": [
    "# Вариант 3 (для мальчиков)\n",
    "#### Задания 1, 2, 3, 4, 7, 10, 11, 14, 15, 17, 24"
   ],
   "metadata": {
    "collapsed": false
   },
   "id": "3c259608c2039486"
  },
  {
   "cell_type": "markdown",
   "source": [
    "#### 1) 10 + 5 = 15"
   ],
   "metadata": {
    "collapsed": false
   },
   "id": "bc035577d20cc0e5"
  },
  {
   "cell_type": "markdown",
   "source": [
    "#### 2) ¬(x → z) /\\ (w → y) /\\ ¬z\n",
    "| --- | --- | --- | --- | --- |\n",
    "| * | * | * | * | F |\n",
    "|   | 1 | 1 | 1 | 1 |\n",
    "|   |   | 1 | 1 | 1 |\n",
    "|   |   |   | 1 | 1 |\n"
   ],
   "metadata": {
    "collapsed": false
   },
   "id": "827576283f3c87b6"
  },
  {
   "cell_type": "code",
   "execution_count": 16,
   "outputs": [
    {
     "name": "stdout",
     "output_type": "stream",
     "text": [
      "x y z w f\n",
      "1 0 0 0 1\n",
      "1 1 0 0 1\n",
      "1 1 0 1 1\n"
     ]
    }
   ],
   "source": [
    "print(\"x y z w f\")\n",
    "for x in 0, 1:\n",
    "    for y in 0, 1:\n",
    "        for z in 0, 1:\n",
    "            for w in 0, 1:\n",
    "                f = int((not (x <= z)) and (w <= y) and (not (z)))\n",
    "                if f == 1:\n",
    "                    print(x, y, z, w, f)"
   ],
   "metadata": {
    "collapsed": false,
    "ExecuteTime": {
     "end_time": "2024-01-28T16:56:22.874533900Z",
     "start_time": "2024-01-28T16:56:22.711531700Z"
    }
   },
   "id": "f93aca5188725092"
  },
  {
   "cell_type": "markdown",
   "source": [
    "| --- | --- | --- | --- | --- |\n",
    "| z | w | y | x | F |\n",
    "| 0 | 1 | 1 | 1 | 1 |\n",
    "| 0 | 0 | 1 | 1 | 1 |\n",
    "| 0 | 0 | 0 | 1 | 1 |\n",
    "#### zwyx"
   ],
   "metadata": {
    "collapsed": false
   },
   "id": "bbeaa15f8fb51007"
  },
  {
   "cell_type": "markdown",
   "source": [
    "#### 3) 220\n",
    "#### 4) 3 + 8 + 3 + 3 = 17\n",
    "#### 7)  25 * 2 * 1,2 / 4 = 15\n",
    "#### 10) \n",
    "#### 11) 8 880\n",
    "##### k = 222\n",
    "##### N = 1000\n",
    "##### K = 32 768\n",
    "##### I = ? Кб\n",
    "##### i = ↑log^2N↑ = 10 бит\n",
    "##### I1 = ik = ↑2 220 бит↑ = 278 б\n",
    "##### I = I1*K = 8 880 Кб"
   ],
   "metadata": {
    "collapsed": false
   },
   "id": "fc510f5f4ff064b4"
  },
  {
   "cell_type": "markdown",
   "source": [
    "##### 14) Операнды арифметического выражения записаны в системе\n",
    "##### счисления с основанием 17.\n",
    "#### 1C3x6 + 1x4x\n",
    "##### В записи чисел переменной x обозначена неизвестная цифра из\n",
    "##### алфавита 17-ричной системы счисления. Определите\n",
    "##### наименьшее значение x, при котором значение данного\n",
    "##### арифметического выражения кратно 18. Для найденного\n",
    "##### значения x вычислите частное от деления значения\n",
    "##### арифметического выражения на 18 и укажите его в ответе в\n",
    "##### десятичной системе счисления. Основание системы счисления\n",
    "##### в ответе указывать не нужно. \n",
    "\n"
   ],
   "metadata": {
    "collapsed": false
   },
   "id": "4d820a7c91af7f28"
  },
  {
   "cell_type": "code",
   "execution_count": 17,
   "outputs": [
    {
     "name": "stdout",
     "output_type": "stream",
     "text": [
      "8360.0\n"
     ]
    }
   ],
   "source": [
    "for x in range(10):\n",
    "    a = 6 + x * 17 + 3 * 17 ** 2 + 12 * 17 ** 3 + 17 ** 4 + x + 4 * 17 + x * 17 ** 2 + 17 ** 3\n",
    "    if a % 18 == 0:\n",
    "        print(a / 18)"
   ],
   "metadata": {
    "collapsed": false,
    "ExecuteTime": {
     "end_time": "2024-01-28T16:56:22.904526900Z",
     "start_time": "2024-01-28T16:56:22.814528800Z"
    }
   },
   "id": "a8276e4f15904fd"
  },
  {
   "cell_type": "markdown",
   "source": [
    "##### 15) Обозначим через ДЕЛ(n, m) утверждение «натуральное число n\n",
    "##### делится без остатка на натуральное число m».\n",
    "##### Для какого наименьшего натурального числа А формула\n",
    "##### (ДЕЛ(x, 7) → ¬ДЕЛ(x, 5)) \\\\/ (x + A ≥ 80))\n",
    "##### тождественно истинна (т.е. принимает значение 1) при любом\n",
    "##### натуральном значении переменной х?\n"
   ],
   "metadata": {
    "collapsed": false
   },
   "id": "757dfe15eec3433b"
  },
  {
   "cell_type": "code",
   "execution_count": 18,
   "outputs": [
    {
     "name": "stdout",
     "output_type": "stream",
     "text": [
      "45\n"
     ]
    }
   ],
   "source": [
    "def del_(a, b):\n",
    "    return a % b == 0\n",
    "\n",
    "\n",
    "def olgavladimirovna(A):\n",
    "    for x in range(1, 1000000):\n",
    "        a = ((del_(x, 7) <= (not (del_(x, 5)))) or (x + A >= 80))\n",
    "        if not a:\n",
    "            return False\n",
    "    return True\n",
    "\n",
    "\n",
    "for A in range(1000000):\n",
    "    if olgavladimirovna(A):\n",
    "        print(A)\n",
    "        break"
   ],
   "metadata": {
    "collapsed": false,
    "ExecuteTime": {
     "end_time": "2024-01-28T16:56:23.683524100Z",
     "start_time": "2024-01-28T16:56:22.897531400Z"
    }
   },
   "id": "d1bb7fe048dfcb34"
  },
  {
   "cell_type": "markdown",
   "source": [
    "##### 17) В файле содержится последовательность целых чисел.\n",
    "##### Элементы последовательности могут принимать целые\n",
    "##### значения от –10 000 до 10 000 включительно. Определите\n",
    "##### количество пар последовательности, в которых только одно\n",
    "##### число оканчивается на 7, а квадрат суммы элементов пары не\n",
    "##### меньше квадрата минимального элемента последовательности,\n",
    "##### оканчивающегося на 7. В ответе запишите два числа: сначала\n",
    "##### количество найденных пар, затем максимальный из квадратов\n",
    "##### сумм элементов таких пар. В данной задаче под парой\n",
    "##### подразумевается два идущих подряд элемента\n",
    "##### последовательности."
   ],
   "metadata": {
    "collapsed": false
   },
   "id": "cb0073fb4fe66d40"
  },
  {
   "cell_type": "code",
   "execution_count": 19,
   "outputs": [
    {
     "name": "stdout",
     "output_type": "stream",
     "text": [
      "207 369908289\n"
     ]
    }
   ],
   "source": [
    "a = [int(i) for i in open(\"17_3.txt\")]\n",
    "m = 10001\n",
    "b = []\n",
    "\n",
    "for i in a:\n",
    "    if m < i and i % 10 == 7:\n",
    "        m = i\n",
    "\n",
    "m **= 2\n",
    "k = 0\n",
    "m1 = -10001\n",
    "predi = a[0]\n",
    "\n",
    "for i in a[1:]:\n",
    "    if ((i % 10 == 7) != (predi % 10 == 7)) and ((i + predi) ** 2 >= m):\n",
    "        k += 1\n",
    "        if (i + predi) ** 2 > m1:\n",
    "            m1 = (i + predi) ** 2\n",
    "    predi = i\n",
    "\n",
    "print(k, m1)"
   ],
   "metadata": {
    "collapsed": false,
    "ExecuteTime": {
     "end_time": "2024-01-28T16:56:23.732524800Z",
     "start_time": "2024-01-28T16:56:23.695528500Z"
    }
   },
   "id": "7ecb49ee7bd97c60"
  },
  {
   "cell_type": "markdown",
   "source": [
    "##### 24) Текстовый файл состоит из символов A, B, C, D и E.\n",
    "##### Определите максимальное количество идущих подряд пар\n",
    "##### символов вида:\n",
    "#### гласная + согласная\n",
    "##### в прилагаемом файле. Для выполнения этого задания следует\n",
    "##### написать программу.\n"
   ],
   "metadata": {
    "collapsed": false
   },
   "id": "441931400adc74d8"
  },
  {
   "cell_type": "code",
   "execution_count": 20,
   "outputs": [
    {
     "name": "stdout",
     "output_type": "stream",
     "text": [
      "55\n"
     ]
    }
   ],
   "source": [
    "a = open(\"24_3.txt\").readline()\n",
    "sogl = \"BCD\"\n",
    "gl = \"AE\"\n",
    "m = -1\n",
    "k = 0\n",
    "i = 1\n",
    "while i < len(a):\n",
    "    if a[i - 1] in gl and a[i] in sogl:\n",
    "        k += 1\n",
    "        if m < k:\n",
    "            m = k\n",
    "        i += 2\n",
    "    else:\n",
    "        k = 0\n",
    "        i += 1\n",
    "print(m)"
   ],
   "metadata": {
    "collapsed": false,
    "ExecuteTime": {
     "end_time": "2024-01-28T16:56:24.527523600Z",
     "start_time": "2024-01-28T16:56:23.720527200Z"
    }
   },
   "id": "5e9aa0ef8b6153d1"
  }
 ],
 "metadata": {
  "kernelspec": {
   "display_name": "Python 3",
   "language": "python",
   "name": "python3"
  },
  "language_info": {
   "codemirror_mode": {
    "name": "ipython",
    "version": 2
   },
   "file_extension": ".py",
   "mimetype": "text/x-python",
   "name": "python",
   "nbconvert_exporter": "python",
   "pygments_lexer": "ipython2",
   "version": "2.7.6"
  }
 },
 "nbformat": 4,
 "nbformat_minor": 5
}
