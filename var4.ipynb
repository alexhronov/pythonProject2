{
 "cells": [
  {
   "cell_type": "markdown",
   "source": [
    "# Вариант 4 (общий)\n",
    "#### Задания 1, 2, 3, 4, 7, 10, 11, 14, 15, 17, 24"
   ],
   "metadata": {
    "collapsed": false
   },
   "id": "3c259608c2039486"
  },
  {
   "cell_type": "markdown",
   "source": [
    "#### 1) 7 + 3 = 10"
   ],
   "metadata": {
    "collapsed": false
   },
   "id": "bc035577d20cc0e5"
  },
  {
   "cell_type": "markdown",
   "source": [
    "#### 2) (x → z) /\\ ¬(y → w) /\\ ¬w\n",
    "| --- | --- | --- | --- | --- |\n",
    "| * | * | * | * | F |\n",
    "| 1 |   |   |   | 1 |\n",
    "| 1 | 1 |   |   | 1 |\n",
    "| 1 | 1 | 1 |   | 1 |\n"
   ],
   "metadata": {
    "collapsed": false
   },
   "id": "827576283f3c87b6"
  },
  {
   "cell_type": "code",
   "execution_count": 2,
   "outputs": [
    {
     "name": "stdout",
     "output_type": "stream",
     "text": [
      "x y z w f\n",
      "0 1 0 0 1\n",
      "0 1 1 0 1\n",
      "1 1 1 0 1\n"
     ]
    }
   ],
   "source": [
    "print(\"x y z w f\")\n",
    "for x in 0, 1:\n",
    "    for y in 0, 1:\n",
    "        for z in 0, 1:\n",
    "            for w in 0, 1:\n",
    "                f = int((x <= z) and (not (y <= w)) and (not (w)))\n",
    "                if f == 1:\n",
    "                    print(x, y, z, w, f)"
   ],
   "metadata": {
    "collapsed": false,
    "ExecuteTime": {
     "end_time": "2024-01-26T13:19:39.284085800Z",
     "start_time": "2024-01-26T13:19:39.263738200Z"
    }
   },
   "id": "f93aca5188725092"
  },
  {
   "cell_type": "markdown",
   "source": [
    "| --- | --- | --- | --- | --- |\n",
    "| y | z | x | w | F |\n",
    "| 1 |  0 | 0  |  0 | 1 |\n",
    "| 1 | 1 | 0  |  0 | 1 |\n",
    "| 1 | 1 | 1 | 0  | 1 |\n",
    "#### yzxw"
   ],
   "metadata": {
    "collapsed": false
   },
   "id": "bbeaa15f8fb51007"
  },
  {
   "cell_type": "markdown",
   "source": [
    "#### 3) 362,5\n",
    "#### 4) 4 + 2 + 3 + 2 + 4 + 2 + 2 + 4 = 23\n",
    "#### 7)  48 * 2 / 3 * 2 = 64\n",
    "#### 10) 4\n",
    "#### 11) 11 000\n",
    "##### k = 500\n",
    "##### N = 1100\n",
    "##### K = 16 384\n",
    "##### I = ?\n",
    "##### i = ↑log^2N↑ = 11 бит\n",
    "##### I1 = ik = ↑5500 бит↑ = 688 б\n",
    "##### I = I1*K = 11 000 Кб"
   ],
   "metadata": {
    "collapsed": false
   },
   "id": "fc510f5f4ff064b4"
  },
  {
   "cell_type": "markdown",
   "source": [
    "##### 14) Операнды арифметического выражения записаны в системе\n",
    "##### счисления с основанием 18.\n",
    "##### 1x239 + 2xCx\n",
    "##### В записи чисел переменной x обозначена неизвестная цифра из\n",
    "##### алфавита 18-ричной системы счисления. Определите\n",
    "##### наименьшее значение x, при котором значение данного\n",
    "##### арифметического выражения кратно 19. Для найденного\n",
    "##### значения x вычислите частное от деления значения\n",
    "##### арифметического выражения на 19 и укажите его в ответе в\n",
    "##### десятичной системе счисления. Основание системы счисления\n",
    "##### в ответе указывать не нужно.\n"
   ],
   "metadata": {
    "collapsed": false
   },
   "id": "4d820a7c91af7f28"
  },
  {
   "cell_type": "code",
   "execution_count": 8,
   "outputs": [
    {
     "name": "stdout",
     "output_type": "stream",
     "text": [
      "7808.0\n"
     ]
    }
   ],
   "source": [
    "for x in range(10):\n",
    "    a = 9 + 3 * 18 + 2 * 18 ** 2 + x * 18 ** 3 + 18 ** 4 + x + 12 * 18 + x * 18 ** 2 + 2 * 18 ** 3\n",
    "    if a % 19 == 0:\n",
    "        print(a / 19)"
   ],
   "metadata": {
    "collapsed": false,
    "ExecuteTime": {
     "end_time": "2024-01-26T20:06:52.264240300Z",
     "start_time": "2024-01-26T20:06:52.194066800Z"
    }
   },
   "id": "a8276e4f15904fd"
  },
  {
   "cell_type": "markdown",
   "source": [
    "###### 15) Обозначим через ДЕЛ(n, m) утверждение «натуральное число n\n",
    "##### делится без остатка на натуральное число m».\n",
    "##### Для какого наименьшего натурального числа А формула\n",
    "##### (ДЕЛ(x, 3) → ¬ДЕЛ(x, 11)) \\\\/ (x + A ≥ 80))\n",
    "##### тождественно истинна (т.е. принимает значение 1) при любом\n",
    "##### натуральном значении переменной х?"
   ],
   "metadata": {
    "collapsed": false
   },
   "id": "757dfe15eec3433b"
  },
  {
   "cell_type": "code",
   "execution_count": 11,
   "outputs": [
    {
     "name": "stdout",
     "output_type": "stream",
     "text": [
      "77\n"
     ]
    }
   ],
   "source": [
    "def del_(a, b):\n",
    "    return a % b == 0\n",
    "\n",
    "\n",
    "def nizhniynovgorod(A):\n",
    "    for x in range(1000000):\n",
    "        a = ((del_(x, 3) <= del_(x, 11)) or (x + A >= 80))\n",
    "        if not a:\n",
    "            return False\n",
    "    return True\n",
    "\n",
    "\n",
    "for A in range(1000000):\n",
    "    if nizhniynovgorod(A):\n",
    "        print(A)\n",
    "        break"
   ],
   "metadata": {
    "collapsed": false,
    "ExecuteTime": {
     "end_time": "2024-01-26T20:29:47.851427100Z",
     "start_time": "2024-01-26T20:29:47.461346300Z"
    }
   },
   "id": "d1bb7fe048dfcb34"
  },
  {
   "cell_type": "markdown",
   "source": [
    "##### 17) В файле содержится последовательность целых чисел.\n",
    "##### Элементы последовательности могут принимать целые\n",
    "##### значения от –10 000 до 10 000 включительно. Определите\n",
    "##### количество пар последовательности, в которых только одно\n",
    "##### число оканчивается на 2, а квадрат суммы элементов пары не\n",
    "##### меньше квадрата минимального элемента последовательности,\n",
    "##### оканчивающегося на 2. В ответе запишите два числа: сначала\n",
    "##### количество найденных пар, затем максимальный из квадратов\n",
    "##### сумм элементов таких пар. В данной задаче под парой\n",
    "##### подразумевается два идущих подряд элемента\n",
    "##### последовательности."
   ],
   "metadata": {
    "collapsed": false
   },
   "id": "cb0073fb4fe66d40"
  },
  {
   "cell_type": "code",
   "execution_count": 25,
   "outputs": [
    {
     "name": "stdout",
     "output_type": "stream",
     "text": [
      "229 -2566\n"
     ]
    }
   ],
   "source": [
    "a = [int(i) for i in open(\"17.txt\")]\n",
    "m = 10001\n",
    "b = []\n",
    "\n",
    "for i in a:\n",
    "    if m < i and i % 10 == 2:\n",
    "        m = i\n",
    "\n",
    "m **= 2\n",
    "k = 0\n",
    "m1 = -10001\n",
    "predi = a[0]\n",
    "\n",
    "for i in a[1:]:\n",
    "    if ((i % 10 == 2) != (predi % 10 == 2)) and ((i + predi) ** 2 >= m):\n",
    "        k += 1\n",
    "        if (i + predi) ** 2 > m1:\n",
    "            m1 = i + predi\n",
    "    predi = i\n",
    "\n",
    "print(k, predi)"
   ],
   "metadata": {
    "collapsed": false,
    "ExecuteTime": {
     "end_time": "2024-01-26T19:36:44.498679400Z",
     "start_time": "2024-01-26T19:36:44.464887700Z"
    }
   },
   "id": "7ecb49ee7bd97c60"
  },
  {
   "cell_type": "markdown",
   "source": [
    "##### 24) Текстовый файл состоит из символов A, B, C, D и E.\n",
    "##### Определите максимальное количество идущих подряд пар\n",
    "##### символов вида:\n",
    "#### гласная + согласная\n",
    "##### в прилагаемом файле. Для выполнения этого задания следует\n",
    "##### написать программу.\n"
   ],
   "metadata": {
    "collapsed": false
   },
   "id": "441931400adc74d8"
  },
  {
   "cell_type": "code",
   "execution_count": 10,
   "outputs": [
    {
     "name": "stdout",
     "output_type": "stream",
     "text": [
      "55\n"
     ]
    }
   ],
   "source": [
    "a = open(\"24.txt\").readline()\n",
    "sogl = \"BCD\"\n",
    "gl = \"AE\"\n",
    "m = -1\n",
    "k = 0\n",
    "i = 1\n",
    "while i < len(a):\n",
    "    if a[i-1] in gl and a[i] in sogl:\n",
    "        k += 1\n",
    "        if m < k:\n",
    "            m = k\n",
    "        i += 2\n",
    "    else:\n",
    "        k = 0\n",
    "        i += 1\n",
    "print(m)"
   ],
   "metadata": {
    "collapsed": false,
    "ExecuteTime": {
     "end_time": "2024-01-26T20:12:44.795950800Z",
     "start_time": "2024-01-26T20:12:44.126330800Z"
    }
   },
   "id": "5e9aa0ef8b6153d1"
  }
 ],
 "metadata": {
  "kernelspec": {
   "display_name": "Python 3",
   "language": "python",
   "name": "python3"
  },
  "language_info": {
   "codemirror_mode": {
    "name": "ipython",
    "version": 2
   },
   "file_extension": ".py",
   "mimetype": "text/x-python",
   "name": "python",
   "nbconvert_exporter": "python",
   "pygments_lexer": "ipython2",
   "version": "2.7.6"
  }
 },
 "nbformat": 4,
 "nbformat_minor": 5
}
