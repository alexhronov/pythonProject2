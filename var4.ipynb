{
 "cells": [
  {
   "cell_type": "markdown",
   "source": [
    "# Вариант 4 (общий)\n",
    "#### Задания 1,2,3,4,7,10,11,14"
   ],
   "metadata": {
    "collapsed": false
   },
   "id": "3c259608c2039486"
  },
  {
   "cell_type": "markdown",
   "source": [
    "#### 1) 7 + 3 = 10"
   ],
   "metadata": {
    "collapsed": false
   },
   "id": "bc035577d20cc0e5"
  },
  {
   "cell_type": "markdown",
   "source": [
    "#### 2) (x → z) /\\ ¬(y → w) /\\ ¬w\n",
    "| --- | --- | --- | --- | --- |\n",
    "| * | * | * | * | F |\n",
    "| 1 |   |   |   | 1 |\n",
    "| 1 | 1 |   |   | 1 |\n",
    "| 1 | 1 | 1 |   | 1 |\n"
   ],
   "metadata": {
    "collapsed": false
   },
   "id": "827576283f3c87b6"
  },
  {
   "cell_type": "code",
   "execution_count": 2,
   "outputs": [
    {
     "name": "stdout",
     "output_type": "stream",
     "text": [
      "x y z w f\n",
      "0 1 0 0 1\n",
      "0 1 1 0 1\n",
      "1 1 1 0 1\n"
     ]
    }
   ],
   "source": [
    "print(\"x y z w f\")\n",
    "for x in 0, 1:\n",
    "    for y in 0, 1:\n",
    "        for z in 0, 1:\n",
    "            for w in 0, 1:\n",
    "                f = int((x <= z) and (not(y <= w)) and (not(w)))\n",
    "                if f == 1:\n",
    "                    print(x, y, z, w, f)"
   ],
   "metadata": {
    "collapsed": false,
    "ExecuteTime": {
     "end_time": "2024-01-26T13:19:39.284085800Z",
     "start_time": "2024-01-26T13:19:39.263738200Z"
    }
   },
   "id": "f93aca5188725092"
  },
  {
   "cell_type": "markdown",
   "source": [
    "| --- | --- | --- | --- | --- |\n",
    "| y | z | x | w | F |\n",
    "| 1 |  0 | 0  |  0 | 1 |\n",
    "| 1 | 1 | 0  |  0 | 1 |\n",
    "| 1 | 1 | 1 | 0  | 1 |\n"
   ],
   "metadata": {
    "collapsed": false
   },
   "id": "bbeaa15f8fb51007"
  },
  {
   "cell_type": "markdown",
   "source": [
    "#### 3) "
   ],
   "metadata": {
    "collapsed": false
   },
   "id": "9b01d05ffd6b323c"
  },
  {
   "cell_type": "markdown",
   "source": [
    "#### 4) 4 + 2 + 3 + 2 + 4 + 2 + 2 + 4 = 23"
   ],
   "metadata": {
    "collapsed": false
   },
   "id": "bbb711ecbccd84df"
  },
  {
   "cell_type": "markdown",
   "source": [
    "#### 7)  48 * 2 / 3 * 2 = 64\n",
    "#### 10)\n",
    "#### 11) 11 000\n",
    "##### k = 500\n",
    "##### N = 1100\n",
    "##### K = 16 384\n",
    "##### I = ?\n",
    "##### i = ↑log^2N↑ = 11 бит\n",
    "##### I1 = ik = ↑5500 бит↑ = 688 б\n",
    "##### I = I1*K = 11 000 Кб"
   ],
   "metadata": {
    "collapsed": false
   },
   "id": "fc510f5f4ff064b4"
  },
  {
   "cell_type": "raw",
   "source": [
    "Обозначим через ДЕЛ(n, m) утверждение «натуральное число n\n",
    "делится без остатка на натуральное число m».\n",
    "Для какого наименьшего натурального числа А формула\n",
    "(ДЕЛ(x, 3) → ¬ДЕЛ(x, 11)) \\/ (x + A ≥ 80))\n",
    "тождественно истинна (т.е. принимает значение 1) при любом\n",
    "натуральном значении переменной х?"
   ],
   "metadata": {
    "collapsed": false
   },
   "id": "5a842277321fdf2"
  },
  {
   "cell_type": "markdown",
   "source": [
    "#### 14) 7808"
   ],
   "metadata": {
    "collapsed": false
   },
   "id": "4d820a7c91af7f28"
  },
  {
   "cell_type": "code",
   "execution_count": 3,
   "outputs": [
    {
     "name": "stdout",
     "output_type": "stream",
     "text": [
      "7808.0\n",
      "13965.0\n",
      "20122.0\n",
      "26279.0\n",
      "32436.0\n"
     ]
    }
   ],
   "source": [
    "for x in range(100):\n",
    "    a = 9 + 3 * 18 + 2 * 18 ** 2 + x * 18 ** 3 + 18 ** 4 + x + 12 * 18 + x * 18 ** 2 + 2 * 18 ** 3\n",
    "    if a % 19 == 0:\n",
    "        print(a / 19)"
   ],
   "metadata": {
    "collapsed": false,
    "ExecuteTime": {
     "end_time": "2024-01-26T13:45:54.937501900Z",
     "start_time": "2024-01-26T13:45:54.903570800Z"
    }
   },
   "id": "a8276e4f15904fd"
  },
  {
   "cell_type": "code",
   "execution_count": 11,
   "outputs": [
    {
     "name": "stdout",
     "output_type": "stream",
     "text": [
      "77\n"
     ]
    }
   ],
   "source": [
    "def del_(a, b):\n",
    "    return a % b == 0\n",
    "\n",
    "\n",
    "def olgavladimirovna(A):\n",
    "    for x in range(1000000):\n",
    "        a = ((del_(x, 3) <= del_(x, 11)) or (x + A >= 80))\n",
    "        if not a:\n",
    "            return False\n",
    "    return True\n",
    "        \n",
    "        \n",
    "for A in range(90):\n",
    "    if olgavladimirovna(A):\n",
    "        print(A)\n",
    "        break"
   ],
   "metadata": {
    "collapsed": false,
    "ExecuteTime": {
     "end_time": "2024-01-26T14:00:30.526331300Z",
     "start_time": "2024-01-26T14:00:29.508799200Z"
    }
   },
   "id": "d1bb7fe048dfcb34"
  },
  {
   "cell_type": "code",
   "execution_count": 9,
   "outputs": [],
   "source": [],
   "metadata": {
    "collapsed": false,
    "ExecuteTime": {
     "end_time": "2024-01-26T13:59:41.528017300Z",
     "start_time": "2024-01-26T13:59:41.474527Z"
    }
   },
   "id": "bb7c5c6dee68be81"
  },
  {
   "cell_type": "code",
   "execution_count": null,
   "outputs": [],
   "source": [],
   "metadata": {
    "collapsed": false
   },
   "id": "7ecb49ee7bd97c60"
  }
 ],
 "metadata": {
  "kernelspec": {
   "display_name": "Python 3",
   "language": "python",
   "name": "python3"
  },
  "language_info": {
   "codemirror_mode": {
    "name": "ipython",
    "version": 2
   },
   "file_extension": ".py",
   "mimetype": "text/x-python",
   "name": "python",
   "nbconvert_exporter": "python",
   "pygments_lexer": "ipython2",
   "version": "2.7.6"
  }
 },
 "nbformat": 4,
 "nbformat_minor": 5
}
